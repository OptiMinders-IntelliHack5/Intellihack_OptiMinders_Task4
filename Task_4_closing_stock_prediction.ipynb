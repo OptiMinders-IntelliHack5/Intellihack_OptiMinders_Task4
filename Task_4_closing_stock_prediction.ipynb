{
  "nbformat": 4,
  "nbformat_minor": 0,
  "metadata": {
    "colab": {
      "provenance": [],
      "gpuType": "T4"
    },
    "kernelspec": {
      "name": "python3",
      "display_name": "Python 3"
    },
    "language_info": {
      "name": "python"
    },
    "accelerator": "GPU"
  },
  "cells": [
    {
      "cell_type": "code",
      "execution_count": 1,
      "metadata": {
        "colab": {
          "base_uri": "https://localhost:8080/"
        },
        "id": "6QXsy5Gj2OwB",
        "outputId": "75dd09fe-16d1-408a-a8c7-cdb17b046bec"
      },
      "outputs": [
        {
          "output_type": "stream",
          "name": "stdout",
          "text": [
            "cuda\n"
          ]
        }
      ],
      "source": [
        "from torch import cuda\n",
        "device = 'cuda' if cuda.is_available() else 'cpu'\n",
        "print(device)\n"
      ]
    },
    {
      "cell_type": "code",
      "source": [
        "from google.colab import drive\n",
        "import pandas as pd\n",
        "drive.mount('/content/drive')\n",
        "\n",
        "file_path = \"/content/drive/My Drive/question4-stock-data.csv\"\n",
        "\n",
        "# Load CSV into DataFrame\n",
        "df = pd.read_csv(file_path)\n",
        "\n",
        "# Show first few rows\n",
        "df.head()"
      ],
      "metadata": {
        "colab": {
          "base_uri": "https://localhost:8080/",
          "height": 347
        },
        "id": "OpnUz_MA2ctD",
        "outputId": "d9ba9a5a-db8a-48b9-ca11-992f9becabc8"
      },
      "execution_count": 3,
      "outputs": [
        {
          "output_type": "stream",
          "name": "stdout",
          "text": [
            "Drive already mounted at /content/drive; to attempt to forcibly remount, call drive.mount(\"/content/drive\", force_remount=True).\n"
          ]
        },
        {
          "output_type": "execute_result",
          "data": {
            "text/plain": [
              "   Unnamed: 0        Date  Adj Close     Close      High       Low      Open  \\\n",
              "0           0  1980-03-17   2.296798  3.291227  3.344743  3.291227  0.000000   \n",
              "1           1  1980-03-18   2.306134  3.304606  3.358122  3.304606  0.000000   \n",
              "2           2  1980-03-19   2.306134  3.304606  3.304606  3.304606  3.304606   \n",
              "3           3  1980-03-20   2.306134  3.304606  3.358122  3.304606  0.000000   \n",
              "4           4  1980-03-21   2.362154  3.384880  3.438396  3.384880  0.000000   \n",
              "\n",
              "    Volume  \n",
              "0  41109.0  \n",
              "1   9343.0  \n",
              "2      0.0  \n",
              "3  10277.0  \n",
              "4   8409.0  "
            ],
            "text/html": [
              "\n",
              "  <div id=\"df-01235eb6-c1b7-4c24-ba07-dc8f048104b8\" class=\"colab-df-container\">\n",
              "    <div>\n",
              "<style scoped>\n",
              "    .dataframe tbody tr th:only-of-type {\n",
              "        vertical-align: middle;\n",
              "    }\n",
              "\n",
              "    .dataframe tbody tr th {\n",
              "        vertical-align: top;\n",
              "    }\n",
              "\n",
              "    .dataframe thead th {\n",
              "        text-align: right;\n",
              "    }\n",
              "</style>\n",
              "<table border=\"1\" class=\"dataframe\">\n",
              "  <thead>\n",
              "    <tr style=\"text-align: right;\">\n",
              "      <th></th>\n",
              "      <th>Unnamed: 0</th>\n",
              "      <th>Date</th>\n",
              "      <th>Adj Close</th>\n",
              "      <th>Close</th>\n",
              "      <th>High</th>\n",
              "      <th>Low</th>\n",
              "      <th>Open</th>\n",
              "      <th>Volume</th>\n",
              "    </tr>\n",
              "  </thead>\n",
              "  <tbody>\n",
              "    <tr>\n",
              "      <th>0</th>\n",
              "      <td>0</td>\n",
              "      <td>1980-03-17</td>\n",
              "      <td>2.296798</td>\n",
              "      <td>3.291227</td>\n",
              "      <td>3.344743</td>\n",
              "      <td>3.291227</td>\n",
              "      <td>0.000000</td>\n",
              "      <td>41109.0</td>\n",
              "    </tr>\n",
              "    <tr>\n",
              "      <th>1</th>\n",
              "      <td>1</td>\n",
              "      <td>1980-03-18</td>\n",
              "      <td>2.306134</td>\n",
              "      <td>3.304606</td>\n",
              "      <td>3.358122</td>\n",
              "      <td>3.304606</td>\n",
              "      <td>0.000000</td>\n",
              "      <td>9343.0</td>\n",
              "    </tr>\n",
              "    <tr>\n",
              "      <th>2</th>\n",
              "      <td>2</td>\n",
              "      <td>1980-03-19</td>\n",
              "      <td>2.306134</td>\n",
              "      <td>3.304606</td>\n",
              "      <td>3.304606</td>\n",
              "      <td>3.304606</td>\n",
              "      <td>3.304606</td>\n",
              "      <td>0.0</td>\n",
              "    </tr>\n",
              "    <tr>\n",
              "      <th>3</th>\n",
              "      <td>3</td>\n",
              "      <td>1980-03-20</td>\n",
              "      <td>2.306134</td>\n",
              "      <td>3.304606</td>\n",
              "      <td>3.358122</td>\n",
              "      <td>3.304606</td>\n",
              "      <td>0.000000</td>\n",
              "      <td>10277.0</td>\n",
              "    </tr>\n",
              "    <tr>\n",
              "      <th>4</th>\n",
              "      <td>4</td>\n",
              "      <td>1980-03-21</td>\n",
              "      <td>2.362154</td>\n",
              "      <td>3.384880</td>\n",
              "      <td>3.438396</td>\n",
              "      <td>3.384880</td>\n",
              "      <td>0.000000</td>\n",
              "      <td>8409.0</td>\n",
              "    </tr>\n",
              "  </tbody>\n",
              "</table>\n",
              "</div>\n",
              "    <div class=\"colab-df-buttons\">\n",
              "\n",
              "  <div class=\"colab-df-container\">\n",
              "    <button class=\"colab-df-convert\" onclick=\"convertToInteractive('df-01235eb6-c1b7-4c24-ba07-dc8f048104b8')\"\n",
              "            title=\"Convert this dataframe to an interactive table.\"\n",
              "            style=\"display:none;\">\n",
              "\n",
              "  <svg xmlns=\"http://www.w3.org/2000/svg\" height=\"24px\" viewBox=\"0 -960 960 960\">\n",
              "    <path d=\"M120-120v-720h720v720H120Zm60-500h600v-160H180v160Zm220 220h160v-160H400v160Zm0 220h160v-160H400v160ZM180-400h160v-160H180v160Zm440 0h160v-160H620v160ZM180-180h160v-160H180v160Zm440 0h160v-160H620v160Z\"/>\n",
              "  </svg>\n",
              "    </button>\n",
              "\n",
              "  <style>\n",
              "    .colab-df-container {\n",
              "      display:flex;\n",
              "      gap: 12px;\n",
              "    }\n",
              "\n",
              "    .colab-df-convert {\n",
              "      background-color: #E8F0FE;\n",
              "      border: none;\n",
              "      border-radius: 50%;\n",
              "      cursor: pointer;\n",
              "      display: none;\n",
              "      fill: #1967D2;\n",
              "      height: 32px;\n",
              "      padding: 0 0 0 0;\n",
              "      width: 32px;\n",
              "    }\n",
              "\n",
              "    .colab-df-convert:hover {\n",
              "      background-color: #E2EBFA;\n",
              "      box-shadow: 0px 1px 2px rgba(60, 64, 67, 0.3), 0px 1px 3px 1px rgba(60, 64, 67, 0.15);\n",
              "      fill: #174EA6;\n",
              "    }\n",
              "\n",
              "    .colab-df-buttons div {\n",
              "      margin-bottom: 4px;\n",
              "    }\n",
              "\n",
              "    [theme=dark] .colab-df-convert {\n",
              "      background-color: #3B4455;\n",
              "      fill: #D2E3FC;\n",
              "    }\n",
              "\n",
              "    [theme=dark] .colab-df-convert:hover {\n",
              "      background-color: #434B5C;\n",
              "      box-shadow: 0px 1px 3px 1px rgba(0, 0, 0, 0.15);\n",
              "      filter: drop-shadow(0px 1px 2px rgba(0, 0, 0, 0.3));\n",
              "      fill: #FFFFFF;\n",
              "    }\n",
              "  </style>\n",
              "\n",
              "    <script>\n",
              "      const buttonEl =\n",
              "        document.querySelector('#df-01235eb6-c1b7-4c24-ba07-dc8f048104b8 button.colab-df-convert');\n",
              "      buttonEl.style.display =\n",
              "        google.colab.kernel.accessAllowed ? 'block' : 'none';\n",
              "\n",
              "      async function convertToInteractive(key) {\n",
              "        const element = document.querySelector('#df-01235eb6-c1b7-4c24-ba07-dc8f048104b8');\n",
              "        const dataTable =\n",
              "          await google.colab.kernel.invokeFunction('convertToInteractive',\n",
              "                                                    [key], {});\n",
              "        if (!dataTable) return;\n",
              "\n",
              "        const docLinkHtml = 'Like what you see? Visit the ' +\n",
              "          '<a target=\"_blank\" href=https://colab.research.google.com/notebooks/data_table.ipynb>data table notebook</a>'\n",
              "          + ' to learn more about interactive tables.';\n",
              "        element.innerHTML = '';\n",
              "        dataTable['output_type'] = 'display_data';\n",
              "        await google.colab.output.renderOutput(dataTable, element);\n",
              "        const docLink = document.createElement('div');\n",
              "        docLink.innerHTML = docLinkHtml;\n",
              "        element.appendChild(docLink);\n",
              "      }\n",
              "    </script>\n",
              "  </div>\n",
              "\n",
              "\n",
              "<div id=\"df-b37d047c-51d9-4420-a0ae-13581bf87529\">\n",
              "  <button class=\"colab-df-quickchart\" onclick=\"quickchart('df-b37d047c-51d9-4420-a0ae-13581bf87529')\"\n",
              "            title=\"Suggest charts\"\n",
              "            style=\"display:none;\">\n",
              "\n",
              "<svg xmlns=\"http://www.w3.org/2000/svg\" height=\"24px\"viewBox=\"0 0 24 24\"\n",
              "     width=\"24px\">\n",
              "    <g>\n",
              "        <path d=\"M19 3H5c-1.1 0-2 .9-2 2v14c0 1.1.9 2 2 2h14c1.1 0 2-.9 2-2V5c0-1.1-.9-2-2-2zM9 17H7v-7h2v7zm4 0h-2V7h2v10zm4 0h-2v-4h2v4z\"/>\n",
              "    </g>\n",
              "</svg>\n",
              "  </button>\n",
              "\n",
              "<style>\n",
              "  .colab-df-quickchart {\n",
              "      --bg-color: #E8F0FE;\n",
              "      --fill-color: #1967D2;\n",
              "      --hover-bg-color: #E2EBFA;\n",
              "      --hover-fill-color: #174EA6;\n",
              "      --disabled-fill-color: #AAA;\n",
              "      --disabled-bg-color: #DDD;\n",
              "  }\n",
              "\n",
              "  [theme=dark] .colab-df-quickchart {\n",
              "      --bg-color: #3B4455;\n",
              "      --fill-color: #D2E3FC;\n",
              "      --hover-bg-color: #434B5C;\n",
              "      --hover-fill-color: #FFFFFF;\n",
              "      --disabled-bg-color: #3B4455;\n",
              "      --disabled-fill-color: #666;\n",
              "  }\n",
              "\n",
              "  .colab-df-quickchart {\n",
              "    background-color: var(--bg-color);\n",
              "    border: none;\n",
              "    border-radius: 50%;\n",
              "    cursor: pointer;\n",
              "    display: none;\n",
              "    fill: var(--fill-color);\n",
              "    height: 32px;\n",
              "    padding: 0;\n",
              "    width: 32px;\n",
              "  }\n",
              "\n",
              "  .colab-df-quickchart:hover {\n",
              "    background-color: var(--hover-bg-color);\n",
              "    box-shadow: 0 1px 2px rgba(60, 64, 67, 0.3), 0 1px 3px 1px rgba(60, 64, 67, 0.15);\n",
              "    fill: var(--button-hover-fill-color);\n",
              "  }\n",
              "\n",
              "  .colab-df-quickchart-complete:disabled,\n",
              "  .colab-df-quickchart-complete:disabled:hover {\n",
              "    background-color: var(--disabled-bg-color);\n",
              "    fill: var(--disabled-fill-color);\n",
              "    box-shadow: none;\n",
              "  }\n",
              "\n",
              "  .colab-df-spinner {\n",
              "    border: 2px solid var(--fill-color);\n",
              "    border-color: transparent;\n",
              "    border-bottom-color: var(--fill-color);\n",
              "    animation:\n",
              "      spin 1s steps(1) infinite;\n",
              "  }\n",
              "\n",
              "  @keyframes spin {\n",
              "    0% {\n",
              "      border-color: transparent;\n",
              "      border-bottom-color: var(--fill-color);\n",
              "      border-left-color: var(--fill-color);\n",
              "    }\n",
              "    20% {\n",
              "      border-color: transparent;\n",
              "      border-left-color: var(--fill-color);\n",
              "      border-top-color: var(--fill-color);\n",
              "    }\n",
              "    30% {\n",
              "      border-color: transparent;\n",
              "      border-left-color: var(--fill-color);\n",
              "      border-top-color: var(--fill-color);\n",
              "      border-right-color: var(--fill-color);\n",
              "    }\n",
              "    40% {\n",
              "      border-color: transparent;\n",
              "      border-right-color: var(--fill-color);\n",
              "      border-top-color: var(--fill-color);\n",
              "    }\n",
              "    60% {\n",
              "      border-color: transparent;\n",
              "      border-right-color: var(--fill-color);\n",
              "    }\n",
              "    80% {\n",
              "      border-color: transparent;\n",
              "      border-right-color: var(--fill-color);\n",
              "      border-bottom-color: var(--fill-color);\n",
              "    }\n",
              "    90% {\n",
              "      border-color: transparent;\n",
              "      border-bottom-color: var(--fill-color);\n",
              "    }\n",
              "  }\n",
              "</style>\n",
              "\n",
              "  <script>\n",
              "    async function quickchart(key) {\n",
              "      const quickchartButtonEl =\n",
              "        document.querySelector('#' + key + ' button');\n",
              "      quickchartButtonEl.disabled = true;  // To prevent multiple clicks.\n",
              "      quickchartButtonEl.classList.add('colab-df-spinner');\n",
              "      try {\n",
              "        const charts = await google.colab.kernel.invokeFunction(\n",
              "            'suggestCharts', [key], {});\n",
              "      } catch (error) {\n",
              "        console.error('Error during call to suggestCharts:', error);\n",
              "      }\n",
              "      quickchartButtonEl.classList.remove('colab-df-spinner');\n",
              "      quickchartButtonEl.classList.add('colab-df-quickchart-complete');\n",
              "    }\n",
              "    (() => {\n",
              "      let quickchartButtonEl =\n",
              "        document.querySelector('#df-b37d047c-51d9-4420-a0ae-13581bf87529 button');\n",
              "      quickchartButtonEl.style.display =\n",
              "        google.colab.kernel.accessAllowed ? 'block' : 'none';\n",
              "    })();\n",
              "  </script>\n",
              "</div>\n",
              "\n",
              "    </div>\n",
              "  </div>\n"
            ],
            "application/vnd.google.colaboratory.intrinsic+json": {
              "type": "dataframe",
              "variable_name": "df",
              "summary": "{\n  \"name\": \"df\",\n  \"rows\": 11291,\n  \"fields\": [\n    {\n      \"column\": \"Unnamed: 0\",\n      \"properties\": {\n        \"dtype\": \"number\",\n        \"std\": 3259,\n        \"min\": 0,\n        \"max\": 11290,\n        \"num_unique_values\": 11291,\n        \"samples\": [\n          967,\n          4067,\n          1740\n        ],\n        \"semantic_type\": \"\",\n        \"description\": \"\"\n      }\n    },\n    {\n      \"column\": \"Date\",\n      \"properties\": {\n        \"dtype\": \"object\",\n        \"num_unique_values\": 11181,\n        \"samples\": [\n          \"2015-05-19\",\n          \"2024-02-29\",\n          \"2019-12-18\"\n        ],\n        \"semantic_type\": \"\",\n        \"description\": \"\"\n      }\n    },\n    {\n      \"column\": \"Adj Close\",\n      \"properties\": {\n        \"dtype\": \"number\",\n        \"std\": 52.26624701805553,\n        \"min\": 2.259451628,\n        \"max\": 254.7700043,\n        \"num_unique_values\": 7449,\n        \"samples\": [\n          40.89871979,\n          122.0100021,\n          50.71407318\n        ],\n        \"semantic_type\": \"\",\n        \"description\": \"\"\n      }\n    },\n    {\n      \"column\": \"Close\",\n      \"properties\": {\n        \"dtype\": \"number\",\n        \"std\": 51.2598280848232,\n        \"min\": 3.237710953,\n        \"max\": 254.7700043,\n        \"num_unique_values\": 5813,\n        \"samples\": [\n          4.713078022,\n          6.588475227,\n          79.86000061\n        ],\n        \"semantic_type\": \"\",\n        \"description\": \"\"\n      }\n    },\n    {\n      \"column\": \"High\",\n      \"properties\": {\n        \"dtype\": \"number\",\n        \"std\": 51.55073512940613,\n        \"min\": 3.237710953,\n        \"max\": 255.2299957,\n        \"num_unique_values\": 5669,\n        \"samples\": [\n          129.0500031,\n          165.9299927,\n          70.51999664\n        ],\n        \"semantic_type\": \"\",\n        \"description\": \"\"\n      }\n    },\n    {\n      \"column\": \"Low\",\n      \"properties\": {\n        \"dtype\": \"number\",\n        \"std\": 51.01163192197143,\n        \"min\": 3.237710953,\n        \"max\": 253.5899963,\n        \"num_unique_values\": 5644,\n        \"samples\": [\n          44.40000153,\n          114.6800003,\n          80.94000244\n        ],\n        \"semantic_type\": \"\",\n        \"description\": \"\"\n      }\n    },\n    {\n      \"column\": \"Open\",\n      \"properties\": {\n        \"dtype\": \"number\",\n        \"std\": 55.83440112836524,\n        \"min\": 0.0,\n        \"max\": 255.0,\n        \"num_unique_values\": 4769,\n        \"samples\": [\n          45.95000076,\n          71.93000031,\n          95.34999847\n        ],\n        \"semantic_type\": \"\",\n        \"description\": \"\"\n      }\n    },\n    {\n      \"column\": \"Volume\",\n      \"properties\": {\n        \"dtype\": \"number\",\n        \"std\": 388366.2360491817,\n        \"min\": 0.0,\n        \"max\": 18582700.0,\n        \"num_unique_values\": 5718,\n        \"samples\": [\n          54800.0,\n          304600.0,\n          315500.0\n        ],\n        \"semantic_type\": \"\",\n        \"description\": \"\"\n      }\n    }\n  ]\n}"
            }
          },
          "metadata": {},
          "execution_count": 3
        }
      ]
    },
    {
      "cell_type": "code",
      "source": [
        "df.shape"
      ],
      "metadata": {
        "colab": {
          "base_uri": "https://localhost:8080/"
        },
        "id": "_jhU7uUM8QMH",
        "outputId": "09cb1617-047f-4c5b-eda7-f642b7bac980"
      },
      "execution_count": 17,
      "outputs": [
        {
          "output_type": "execute_result",
          "data": {
            "text/plain": [
              "(11291, 8)"
            ]
          },
          "metadata": {},
          "execution_count": 17
        }
      ]
    },
    {
      "cell_type": "code",
      "source": [
        "df[df.isnull().any(axis=1)]"
      ],
      "metadata": {
        "colab": {
          "base_uri": "https://localhost:8080/",
          "height": 600
        },
        "id": "IYNG3Dhr8AhT",
        "outputId": "b8458e7a-7719-4916-9e57-d93c5c1b2db8"
      },
      "execution_count": 15,
      "outputs": [
        {
          "output_type": "execute_result",
          "data": {
            "text/plain": [
              "       Unnamed: 0        Date   Adj Close       Close        High         Low  \\\n",
              "10             10  1980-03-31    2.315470    3.317985         NaN    3.317985   \n",
              "20             20  1980-04-15    2.427510    3.478533    3.532049         NaN   \n",
              "37             37  1980-05-08    2.642250    3.786249    3.839765    3.786249   \n",
              "40             40  1980-05-13    2.707607    3.879902    3.933418    3.879902   \n",
              "51             51  1980-05-29    2.763627    3.960176    3.960176         NaN   \n",
              "...           ...         ...         ...         ...         ...         ...   \n",
              "11223       11223  2024-09-23  185.399994         NaN  185.809998  184.130005   \n",
              "11238       11238  2024-10-14  175.100006         NaN  175.389999  174.080002   \n",
              "11243       11243  2024-10-21         NaN  169.169998  170.259995  168.660004   \n",
              "11256       11256         NaN  178.449997  178.449997  179.679993  177.259995   \n",
              "11268       11268         NaN  175.830002  175.830002  176.559998  175.169998   \n",
              "\n",
              "             Open    Volume  \n",
              "10       0.000000    1869.0  \n",
              "20       0.000000    1869.0  \n",
              "37            NaN    7474.0  \n",
              "40       0.000000       NaN  \n",
              "51       3.960176       0.0  \n",
              "...           ...       ...  \n",
              "11223  184.750000  357800.0  \n",
              "11238  174.220001  316100.0  \n",
              "11243  170.100006  420200.0  \n",
              "11256  179.000000  638000.0  \n",
              "11268  175.869995  347900.0  \n",
              "\n",
              "[766 rows x 8 columns]"
            ],
            "text/html": [
              "\n",
              "  <div id=\"df-efc8e947-b289-4ead-824f-99db939949a6\" class=\"colab-df-container\">\n",
              "    <div>\n",
              "<style scoped>\n",
              "    .dataframe tbody tr th:only-of-type {\n",
              "        vertical-align: middle;\n",
              "    }\n",
              "\n",
              "    .dataframe tbody tr th {\n",
              "        vertical-align: top;\n",
              "    }\n",
              "\n",
              "    .dataframe thead th {\n",
              "        text-align: right;\n",
              "    }\n",
              "</style>\n",
              "<table border=\"1\" class=\"dataframe\">\n",
              "  <thead>\n",
              "    <tr style=\"text-align: right;\">\n",
              "      <th></th>\n",
              "      <th>Unnamed: 0</th>\n",
              "      <th>Date</th>\n",
              "      <th>Adj Close</th>\n",
              "      <th>Close</th>\n",
              "      <th>High</th>\n",
              "      <th>Low</th>\n",
              "      <th>Open</th>\n",
              "      <th>Volume</th>\n",
              "    </tr>\n",
              "  </thead>\n",
              "  <tbody>\n",
              "    <tr>\n",
              "      <th>10</th>\n",
              "      <td>10</td>\n",
              "      <td>1980-03-31</td>\n",
              "      <td>2.315470</td>\n",
              "      <td>3.317985</td>\n",
              "      <td>NaN</td>\n",
              "      <td>3.317985</td>\n",
              "      <td>0.000000</td>\n",
              "      <td>1869.0</td>\n",
              "    </tr>\n",
              "    <tr>\n",
              "      <th>20</th>\n",
              "      <td>20</td>\n",
              "      <td>1980-04-15</td>\n",
              "      <td>2.427510</td>\n",
              "      <td>3.478533</td>\n",
              "      <td>3.532049</td>\n",
              "      <td>NaN</td>\n",
              "      <td>0.000000</td>\n",
              "      <td>1869.0</td>\n",
              "    </tr>\n",
              "    <tr>\n",
              "      <th>37</th>\n",
              "      <td>37</td>\n",
              "      <td>1980-05-08</td>\n",
              "      <td>2.642250</td>\n",
              "      <td>3.786249</td>\n",
              "      <td>3.839765</td>\n",
              "      <td>3.786249</td>\n",
              "      <td>NaN</td>\n",
              "      <td>7474.0</td>\n",
              "    </tr>\n",
              "    <tr>\n",
              "      <th>40</th>\n",
              "      <td>40</td>\n",
              "      <td>1980-05-13</td>\n",
              "      <td>2.707607</td>\n",
              "      <td>3.879902</td>\n",
              "      <td>3.933418</td>\n",
              "      <td>3.879902</td>\n",
              "      <td>0.000000</td>\n",
              "      <td>NaN</td>\n",
              "    </tr>\n",
              "    <tr>\n",
              "      <th>51</th>\n",
              "      <td>51</td>\n",
              "      <td>1980-05-29</td>\n",
              "      <td>2.763627</td>\n",
              "      <td>3.960176</td>\n",
              "      <td>3.960176</td>\n",
              "      <td>NaN</td>\n",
              "      <td>3.960176</td>\n",
              "      <td>0.0</td>\n",
              "    </tr>\n",
              "    <tr>\n",
              "      <th>...</th>\n",
              "      <td>...</td>\n",
              "      <td>...</td>\n",
              "      <td>...</td>\n",
              "      <td>...</td>\n",
              "      <td>...</td>\n",
              "      <td>...</td>\n",
              "      <td>...</td>\n",
              "      <td>...</td>\n",
              "    </tr>\n",
              "    <tr>\n",
              "      <th>11223</th>\n",
              "      <td>11223</td>\n",
              "      <td>2024-09-23</td>\n",
              "      <td>185.399994</td>\n",
              "      <td>NaN</td>\n",
              "      <td>185.809998</td>\n",
              "      <td>184.130005</td>\n",
              "      <td>184.750000</td>\n",
              "      <td>357800.0</td>\n",
              "    </tr>\n",
              "    <tr>\n",
              "      <th>11238</th>\n",
              "      <td>11238</td>\n",
              "      <td>2024-10-14</td>\n",
              "      <td>175.100006</td>\n",
              "      <td>NaN</td>\n",
              "      <td>175.389999</td>\n",
              "      <td>174.080002</td>\n",
              "      <td>174.220001</td>\n",
              "      <td>316100.0</td>\n",
              "    </tr>\n",
              "    <tr>\n",
              "      <th>11243</th>\n",
              "      <td>11243</td>\n",
              "      <td>2024-10-21</td>\n",
              "      <td>NaN</td>\n",
              "      <td>169.169998</td>\n",
              "      <td>170.259995</td>\n",
              "      <td>168.660004</td>\n",
              "      <td>170.100006</td>\n",
              "      <td>420200.0</td>\n",
              "    </tr>\n",
              "    <tr>\n",
              "      <th>11256</th>\n",
              "      <td>11256</td>\n",
              "      <td>NaN</td>\n",
              "      <td>178.449997</td>\n",
              "      <td>178.449997</td>\n",
              "      <td>179.679993</td>\n",
              "      <td>177.259995</td>\n",
              "      <td>179.000000</td>\n",
              "      <td>638000.0</td>\n",
              "    </tr>\n",
              "    <tr>\n",
              "      <th>11268</th>\n",
              "      <td>11268</td>\n",
              "      <td>NaN</td>\n",
              "      <td>175.830002</td>\n",
              "      <td>175.830002</td>\n",
              "      <td>176.559998</td>\n",
              "      <td>175.169998</td>\n",
              "      <td>175.869995</td>\n",
              "      <td>347900.0</td>\n",
              "    </tr>\n",
              "  </tbody>\n",
              "</table>\n",
              "<p>766 rows × 8 columns</p>\n",
              "</div>\n",
              "    <div class=\"colab-df-buttons\">\n",
              "\n",
              "  <div class=\"colab-df-container\">\n",
              "    <button class=\"colab-df-convert\" onclick=\"convertToInteractive('df-efc8e947-b289-4ead-824f-99db939949a6')\"\n",
              "            title=\"Convert this dataframe to an interactive table.\"\n",
              "            style=\"display:none;\">\n",
              "\n",
              "  <svg xmlns=\"http://www.w3.org/2000/svg\" height=\"24px\" viewBox=\"0 -960 960 960\">\n",
              "    <path d=\"M120-120v-720h720v720H120Zm60-500h600v-160H180v160Zm220 220h160v-160H400v160Zm0 220h160v-160H400v160ZM180-400h160v-160H180v160Zm440 0h160v-160H620v160ZM180-180h160v-160H180v160Zm440 0h160v-160H620v160Z\"/>\n",
              "  </svg>\n",
              "    </button>\n",
              "\n",
              "  <style>\n",
              "    .colab-df-container {\n",
              "      display:flex;\n",
              "      gap: 12px;\n",
              "    }\n",
              "\n",
              "    .colab-df-convert {\n",
              "      background-color: #E8F0FE;\n",
              "      border: none;\n",
              "      border-radius: 50%;\n",
              "      cursor: pointer;\n",
              "      display: none;\n",
              "      fill: #1967D2;\n",
              "      height: 32px;\n",
              "      padding: 0 0 0 0;\n",
              "      width: 32px;\n",
              "    }\n",
              "\n",
              "    .colab-df-convert:hover {\n",
              "      background-color: #E2EBFA;\n",
              "      box-shadow: 0px 1px 2px rgba(60, 64, 67, 0.3), 0px 1px 3px 1px rgba(60, 64, 67, 0.15);\n",
              "      fill: #174EA6;\n",
              "    }\n",
              "\n",
              "    .colab-df-buttons div {\n",
              "      margin-bottom: 4px;\n",
              "    }\n",
              "\n",
              "    [theme=dark] .colab-df-convert {\n",
              "      background-color: #3B4455;\n",
              "      fill: #D2E3FC;\n",
              "    }\n",
              "\n",
              "    [theme=dark] .colab-df-convert:hover {\n",
              "      background-color: #434B5C;\n",
              "      box-shadow: 0px 1px 3px 1px rgba(0, 0, 0, 0.15);\n",
              "      filter: drop-shadow(0px 1px 2px rgba(0, 0, 0, 0.3));\n",
              "      fill: #FFFFFF;\n",
              "    }\n",
              "  </style>\n",
              "\n",
              "    <script>\n",
              "      const buttonEl =\n",
              "        document.querySelector('#df-efc8e947-b289-4ead-824f-99db939949a6 button.colab-df-convert');\n",
              "      buttonEl.style.display =\n",
              "        google.colab.kernel.accessAllowed ? 'block' : 'none';\n",
              "\n",
              "      async function convertToInteractive(key) {\n",
              "        const element = document.querySelector('#df-efc8e947-b289-4ead-824f-99db939949a6');\n",
              "        const dataTable =\n",
              "          await google.colab.kernel.invokeFunction('convertToInteractive',\n",
              "                                                    [key], {});\n",
              "        if (!dataTable) return;\n",
              "\n",
              "        const docLinkHtml = 'Like what you see? Visit the ' +\n",
              "          '<a target=\"_blank\" href=https://colab.research.google.com/notebooks/data_table.ipynb>data table notebook</a>'\n",
              "          + ' to learn more about interactive tables.';\n",
              "        element.innerHTML = '';\n",
              "        dataTable['output_type'] = 'display_data';\n",
              "        await google.colab.output.renderOutput(dataTable, element);\n",
              "        const docLink = document.createElement('div');\n",
              "        docLink.innerHTML = docLinkHtml;\n",
              "        element.appendChild(docLink);\n",
              "      }\n",
              "    </script>\n",
              "  </div>\n",
              "\n",
              "\n",
              "<div id=\"df-86850264-34e5-41ec-b6c4-5279df42fbb3\">\n",
              "  <button class=\"colab-df-quickchart\" onclick=\"quickchart('df-86850264-34e5-41ec-b6c4-5279df42fbb3')\"\n",
              "            title=\"Suggest charts\"\n",
              "            style=\"display:none;\">\n",
              "\n",
              "<svg xmlns=\"http://www.w3.org/2000/svg\" height=\"24px\"viewBox=\"0 0 24 24\"\n",
              "     width=\"24px\">\n",
              "    <g>\n",
              "        <path d=\"M19 3H5c-1.1 0-2 .9-2 2v14c0 1.1.9 2 2 2h14c1.1 0 2-.9 2-2V5c0-1.1-.9-2-2-2zM9 17H7v-7h2v7zm4 0h-2V7h2v10zm4 0h-2v-4h2v4z\"/>\n",
              "    </g>\n",
              "</svg>\n",
              "  </button>\n",
              "\n",
              "<style>\n",
              "  .colab-df-quickchart {\n",
              "      --bg-color: #E8F0FE;\n",
              "      --fill-color: #1967D2;\n",
              "      --hover-bg-color: #E2EBFA;\n",
              "      --hover-fill-color: #174EA6;\n",
              "      --disabled-fill-color: #AAA;\n",
              "      --disabled-bg-color: #DDD;\n",
              "  }\n",
              "\n",
              "  [theme=dark] .colab-df-quickchart {\n",
              "      --bg-color: #3B4455;\n",
              "      --fill-color: #D2E3FC;\n",
              "      --hover-bg-color: #434B5C;\n",
              "      --hover-fill-color: #FFFFFF;\n",
              "      --disabled-bg-color: #3B4455;\n",
              "      --disabled-fill-color: #666;\n",
              "  }\n",
              "\n",
              "  .colab-df-quickchart {\n",
              "    background-color: var(--bg-color);\n",
              "    border: none;\n",
              "    border-radius: 50%;\n",
              "    cursor: pointer;\n",
              "    display: none;\n",
              "    fill: var(--fill-color);\n",
              "    height: 32px;\n",
              "    padding: 0;\n",
              "    width: 32px;\n",
              "  }\n",
              "\n",
              "  .colab-df-quickchart:hover {\n",
              "    background-color: var(--hover-bg-color);\n",
              "    box-shadow: 0 1px 2px rgba(60, 64, 67, 0.3), 0 1px 3px 1px rgba(60, 64, 67, 0.15);\n",
              "    fill: var(--button-hover-fill-color);\n",
              "  }\n",
              "\n",
              "  .colab-df-quickchart-complete:disabled,\n",
              "  .colab-df-quickchart-complete:disabled:hover {\n",
              "    background-color: var(--disabled-bg-color);\n",
              "    fill: var(--disabled-fill-color);\n",
              "    box-shadow: none;\n",
              "  }\n",
              "\n",
              "  .colab-df-spinner {\n",
              "    border: 2px solid var(--fill-color);\n",
              "    border-color: transparent;\n",
              "    border-bottom-color: var(--fill-color);\n",
              "    animation:\n",
              "      spin 1s steps(1) infinite;\n",
              "  }\n",
              "\n",
              "  @keyframes spin {\n",
              "    0% {\n",
              "      border-color: transparent;\n",
              "      border-bottom-color: var(--fill-color);\n",
              "      border-left-color: var(--fill-color);\n",
              "    }\n",
              "    20% {\n",
              "      border-color: transparent;\n",
              "      border-left-color: var(--fill-color);\n",
              "      border-top-color: var(--fill-color);\n",
              "    }\n",
              "    30% {\n",
              "      border-color: transparent;\n",
              "      border-left-color: var(--fill-color);\n",
              "      border-top-color: var(--fill-color);\n",
              "      border-right-color: var(--fill-color);\n",
              "    }\n",
              "    40% {\n",
              "      border-color: transparent;\n",
              "      border-right-color: var(--fill-color);\n",
              "      border-top-color: var(--fill-color);\n",
              "    }\n",
              "    60% {\n",
              "      border-color: transparent;\n",
              "      border-right-color: var(--fill-color);\n",
              "    }\n",
              "    80% {\n",
              "      border-color: transparent;\n",
              "      border-right-color: var(--fill-color);\n",
              "      border-bottom-color: var(--fill-color);\n",
              "    }\n",
              "    90% {\n",
              "      border-color: transparent;\n",
              "      border-bottom-color: var(--fill-color);\n",
              "    }\n",
              "  }\n",
              "</style>\n",
              "\n",
              "  <script>\n",
              "    async function quickchart(key) {\n",
              "      const quickchartButtonEl =\n",
              "        document.querySelector('#' + key + ' button');\n",
              "      quickchartButtonEl.disabled = true;  // To prevent multiple clicks.\n",
              "      quickchartButtonEl.classList.add('colab-df-spinner');\n",
              "      try {\n",
              "        const charts = await google.colab.kernel.invokeFunction(\n",
              "            'suggestCharts', [key], {});\n",
              "      } catch (error) {\n",
              "        console.error('Error during call to suggestCharts:', error);\n",
              "      }\n",
              "      quickchartButtonEl.classList.remove('colab-df-spinner');\n",
              "      quickchartButtonEl.classList.add('colab-df-quickchart-complete');\n",
              "    }\n",
              "    (() => {\n",
              "      let quickchartButtonEl =\n",
              "        document.querySelector('#df-86850264-34e5-41ec-b6c4-5279df42fbb3 button');\n",
              "      quickchartButtonEl.style.display =\n",
              "        google.colab.kernel.accessAllowed ? 'block' : 'none';\n",
              "    })();\n",
              "  </script>\n",
              "</div>\n",
              "\n",
              "    </div>\n",
              "  </div>\n"
            ],
            "application/vnd.google.colaboratory.intrinsic+json": {
              "type": "dataframe",
              "repr_error": "0"
            }
          },
          "metadata": {},
          "execution_count": 15
        }
      ]
    },
    {
      "cell_type": "code",
      "source": [
        "df = df.drop(columns=['Date'])"
      ],
      "metadata": {
        "id": "_bzpkLwz8gmi"
      },
      "execution_count": 18,
      "outputs": []
    },
    {
      "cell_type": "code",
      "source": [
        "df = df.dropna()"
      ],
      "metadata": {
        "id": "zZy99l__8sUg"
      },
      "execution_count": 19,
      "outputs": []
    },
    {
      "cell_type": "code",
      "source": [],
      "metadata": {
        "id": "tlg6xPD58nqj"
      },
      "execution_count": null,
      "outputs": []
    },
    {
      "cell_type": "code",
      "source": [
        "close_prices = df['Close']\n",
        "close_prices_reversed = close_prices[::-1]\n",
        "close_prices_reversed.reset_index(drop=True, inplace=True)\n"
      ],
      "metadata": {
        "id": "ZCbCKqqJ4Bdh"
      },
      "execution_count": 20,
      "outputs": []
    },
    {
      "cell_type": "code",
      "source": [
        "\n",
        "# Plot the line chart\n",
        "import matplotlib.pyplot as plt\n",
        "plt.figure(figsize=(10, 6))\n",
        "plt.plot(close_prices_reversed)\n",
        "plt.xlabel('Time')\n",
        "plt.ylabel('Close Prices')\n",
        "plt.title('Stock Prices')\n",
        "plt.grid(True)\n",
        "plt.show()"
      ],
      "metadata": {
        "colab": {
          "base_uri": "https://localhost:8080/",
          "height": 432
        },
        "id": "km3uAcIM4fF3",
        "outputId": "48447611-da12-4753-fdab-95b864ae62d6"
      },
      "execution_count": 21,
      "outputs": [
        {
          "output_type": "display_data",
          "data": {
            "text/plain": [
              "<Figure size 1000x600 with 1 Axes>"
            ],
            "image/png": "[encoded data removed]"
          },
          "metadata": {}
        }
      ]
    },
    {
      "cell_type": "code",
      "source": [
        "import numpy as np\n",
        "data = close_prices_reversed.values.reshape(-1, 1)  # Reshape the data\n",
        "data_normalized = data / np.max(data)  # Normalize the data"
      ],
      "metadata": {
        "id": "FZOsnAJ54pEf"
      },
      "execution_count": 22,
      "outputs": []
    },
    {
      "cell_type": "code",
      "source": [
        "train_size = int(len(data_normalized) * 0.8)\n",
        "train_data = data_normalized[:train_size]\n",
        "test_data = data_normalized[train_size:]"
      ],
      "metadata": {
        "id": "tmks-9ok4yxT"
      },
      "execution_count": 23,
      "outputs": []
    },
    {
      "cell_type": "code",
      "source": [
        "from tensorflow.keras.models import Sequential\n",
        "from tensorflow.keras.layers import LSTM, Dense, Dropout\n",
        "from tensorflow.keras.optimizers import Adam\n",
        "\n",
        "# Function to create LSTM model\n",
        "def create_lstm_model(units, activation, learning_rate):\n",
        "    model = Sequential()\n",
        "    model.add(LSTM(units=units, activation=activation, input_shape=(1, 1)))\n",
        "    model.add(Dense(units=1))\n",
        "    optimizer = Adam(learning_rate=learning_rate)\n",
        "    model.compile(optimizer=optimizer, loss='mean_squared_error')\n",
        "    return model"
      ],
      "metadata": {
        "id": "g9Ya_kBV45Av"
      },
      "execution_count": 24,
      "outputs": []
    },
    {
      "cell_type": "code",
      "source": [
        "lstm_units = [50, 100, 200]\n",
        "lstm_activations = ['relu', 'tanh']\n",
        "learning_rates = [0.001, 0.01, 0.1]\n",
        "epochs = 100\n",
        "batch_size = 32"
      ],
      "metadata": {
        "id": "AJrjLGLk4-wF"
      },
      "execution_count": 25,
      "outputs": []
    },
    {
      "cell_type": "code",
      "source": [
        "best_rmse = float('inf')\n",
        "best_lstm_model = None"
      ],
      "metadata": {
        "id": "gwzlTn7R5Cy_"
      },
      "execution_count": 26,
      "outputs": []
    },
    {
      "cell_type": "code",
      "source": [
        "from sklearn.metrics import mean_squared_error"
      ],
      "metadata": {
        "id": "irAMHUM95EsN"
      },
      "execution_count": 27,
      "outputs": []
    },
    {
      "cell_type": "code",
      "source": [
        "for units in lstm_units:\n",
        "    for activation in lstm_activations:\n",
        "        for learning_rate in learning_rates:\n",
        "            # Create and train LSTM model\n",
        "            model = create_lstm_model(units=units, activation=activation, learning_rate=learning_rate)\n",
        "            model.fit(train_data[:-1].reshape(-1, 1, 1), train_data[1:], epochs=epochs, batch_size=batch_size, verbose=0)\n",
        "\n",
        "            # Predict on test data\n",
        "            test_predictions = model.predict(test_data[:-1].reshape(-1, 1, 1)).flatten()\n",
        "\n",
        "            # Calculate RMSE\n",
        "            rmse = np.sqrt(mean_squared_error(test_data[1:], test_predictions))\n",
        "\n",
        "            # Check if current model has lower RMSE\n",
        "            if rmse < best_rmse:\n",
        "                best_rmse = rmse\n",
        "                best_lstm_model = model"
      ],
      "metadata": {
        "colab": {
          "base_uri": "https://localhost:8080/"
        },
        "id": "vM8AKA3y5GfH",
        "outputId": "e9433b43-2e8f-4161-f718-3af07c29889f"
      },
      "execution_count": null,
      "outputs": [
        {
          "output_type": "stream",
          "name": "stderr",
          "text": [
            "/usr/local/lib/python3.11/dist-packages/keras/src/layers/rnn/rnn.py:200: UserWarning: Do not pass an `input_shape`/`input_dim` argument to a layer. When using Sequential models, prefer using an `Input(shape)` object as the first layer in the model instead.\n",
            "  super().__init__(**kwargs)\n"
          ]
        },
        {
          "output_type": "stream",
          "name": "stdout",
          "text": [
            "\u001b[1m67/67\u001b[0m \u001b[32m━━━━━━━━━━━━━━━━━━━━\u001b[0m\u001b[37m\u001b[0m \u001b[1m1s\u001b[0m 8ms/step\n"
          ]
        },
        {
          "output_type": "stream",
          "name": "stderr",
          "text": [
            "/usr/local/lib/python3.11/dist-packages/keras/src/layers/rnn/rnn.py:200: UserWarning: Do not pass an `input_shape`/`input_dim` argument to a layer. When using Sequential models, prefer using an `Input(shape)` object as the first layer in the model instead.\n",
            "  super().__init__(**kwargs)\n"
          ]
        },
        {
          "output_type": "stream",
          "name": "stdout",
          "text": [
            "\u001b[1m67/67\u001b[0m \u001b[32m━━━━━━━━━━━━━━━━━━━━\u001b[0m\u001b[37m\u001b[0m \u001b[1m1s\u001b[0m 7ms/step\n"
          ]
        },
        {
          "output_type": "stream",
          "name": "stderr",
          "text": [
            "/usr/local/lib/python3.11/dist-packages/keras/src/layers/rnn/rnn.py:200: UserWarning: Do not pass an `input_shape`/`input_dim` argument to a layer. When using Sequential models, prefer using an `Input(shape)` object as the first layer in the model instead.\n",
            "  super().__init__(**kwargs)\n"
          ]
        },
        {
          "output_type": "stream",
          "name": "stdout",
          "text": [
            "\u001b[1m67/67\u001b[0m \u001b[32m━━━━━━━━━━━━━━━━━━━━\u001b[0m\u001b[37m\u001b[0m \u001b[1m1s\u001b[0m 6ms/step\n"
          ]
        },
        {
          "output_type": "stream",
          "name": "stderr",
          "text": [
            "/usr/local/lib/python3.11/dist-packages/keras/src/layers/rnn/rnn.py:200: UserWarning: Do not pass an `input_shape`/`input_dim` argument to a layer. When using Sequential models, prefer using an `Input(shape)` object as the first layer in the model instead.\n",
            "  super().__init__(**kwargs)\n"
          ]
        },
        {
          "output_type": "stream",
          "name": "stdout",
          "text": [
            "\u001b[1m67/67\u001b[0m \u001b[32m━━━━━━━━━━━━━━━━━━━━\u001b[0m\u001b[37m\u001b[0m \u001b[1m0s\u001b[0m 3ms/step\n"
          ]
        },
        {
          "output_type": "stream",
          "name": "stderr",
          "text": [
            "/usr/local/lib/python3.11/dist-packages/keras/src/layers/rnn/rnn.py:200: UserWarning: Do not pass an `input_shape`/`input_dim` argument to a layer. When using Sequential models, prefer using an `Input(shape)` object as the first layer in the model instead.\n",
            "  super().__init__(**kwargs)\n"
          ]
        },
        {
          "output_type": "stream",
          "name": "stdout",
          "text": [
            "\u001b[1m67/67\u001b[0m \u001b[32m━━━━━━━━━━━━━━━━━━━━\u001b[0m\u001b[37m\u001b[0m \u001b[1m0s\u001b[0m 3ms/step\n"
          ]
        },
        {
          "output_type": "stream",
          "name": "stderr",
          "text": [
            "/usr/local/lib/python3.11/dist-packages/keras/src/layers/rnn/rnn.py:200: UserWarning: Do not pass an `input_shape`/`input_dim` argument to a layer. When using Sequential models, prefer using an `Input(shape)` object as the first layer in the model instead.\n",
            "  super().__init__(**kwargs)\n"
          ]
        },
        {
          "output_type": "stream",
          "name": "stdout",
          "text": [
            "\u001b[1m67/67\u001b[0m \u001b[32m━━━━━━━━━━━━━━━━━━━━\u001b[0m\u001b[37m\u001b[0m \u001b[1m0s\u001b[0m 3ms/step\n"
          ]
        },
        {
          "output_type": "stream",
          "name": "stderr",
          "text": [
            "/usr/local/lib/python3.11/dist-packages/keras/src/layers/rnn/rnn.py:200: UserWarning: Do not pass an `input_shape`/`input_dim` argument to a layer. When using Sequential models, prefer using an `Input(shape)` object as the first layer in the model instead.\n",
            "  super().__init__(**kwargs)\n"
          ]
        },
        {
          "output_type": "stream",
          "name": "stdout",
          "text": [
            "\u001b[1m67/67\u001b[0m \u001b[32m━━━━━━━━━━━━━━━━━━━━\u001b[0m\u001b[37m\u001b[0m \u001b[1m1s\u001b[0m 8ms/step\n"
          ]
        },
        {
          "output_type": "stream",
          "name": "stderr",
          "text": [
            "/usr/local/lib/python3.11/dist-packages/keras/src/layers/rnn/rnn.py:200: UserWarning: Do not pass an `input_shape`/`input_dim` argument to a layer. When using Sequential models, prefer using an `Input(shape)` object as the first layer in the model instead.\n",
            "  super().__init__(**kwargs)\n"
          ]
        },
        {
          "output_type": "stream",
          "name": "stdout",
          "text": [
            "\u001b[1m67/67\u001b[0m \u001b[32m━━━━━━━━━━━━━━━━━━━━\u001b[0m\u001b[37m\u001b[0m \u001b[1m1s\u001b[0m 7ms/step\n"
          ]
        },
        {
          "output_type": "stream",
          "name": "stderr",
          "text": [
            "/usr/local/lib/python3.11/dist-packages/keras/src/layers/rnn/rnn.py:200: UserWarning: Do not pass an `input_shape`/`input_dim` argument to a layer. When using Sequential models, prefer using an `Input(shape)` object as the first layer in the model instead.\n",
            "  super().__init__(**kwargs)\n"
          ]
        },
        {
          "output_type": "stream",
          "name": "stdout",
          "text": [
            "\u001b[1m67/67\u001b[0m \u001b[32m━━━━━━━━━━━━━━━━━━━━\u001b[0m\u001b[37m\u001b[0m \u001b[1m1s\u001b[0m 6ms/step\n"
          ]
        },
        {
          "output_type": "stream",
          "name": "stderr",
          "text": [
            "/usr/local/lib/python3.11/dist-packages/keras/src/layers/rnn/rnn.py:200: UserWarning: Do not pass an `input_shape`/`input_dim` argument to a layer. When using Sequential models, prefer using an `Input(shape)` object as the first layer in the model instead.\n",
            "  super().__init__(**kwargs)\n"
          ]
        },
        {
          "output_type": "stream",
          "name": "stdout",
          "text": [
            "\u001b[1m67/67\u001b[0m \u001b[32m━━━━━━━━━━━━━━━━━━━━\u001b[0m\u001b[37m\u001b[0m \u001b[1m0s\u001b[0m 3ms/step\n"
          ]
        },
        {
          "output_type": "stream",
          "name": "stderr",
          "text": [
            "/usr/local/lib/python3.11/dist-packages/keras/src/layers/rnn/rnn.py:200: UserWarning: Do not pass an `input_shape`/`input_dim` argument to a layer. When using Sequential models, prefer using an `Input(shape)` object as the first layer in the model instead.\n",
            "  super().__init__(**kwargs)\n"
          ]
        },
        {
          "output_type": "stream",
          "name": "stdout",
          "text": [
            "\u001b[1m67/67\u001b[0m \u001b[32m━━━━━━━━━━━━━━━━━━━━\u001b[0m\u001b[37m\u001b[0m \u001b[1m0s\u001b[0m 5ms/step\n"
          ]
        },
        {
          "output_type": "stream",
          "name": "stderr",
          "text": [
            "/usr/local/lib/python3.11/dist-packages/keras/src/layers/rnn/rnn.py:200: UserWarning: Do not pass an `input_shape`/`input_dim` argument to a layer. When using Sequential models, prefer using an `Input(shape)` object as the first layer in the model instead.\n",
            "  super().__init__(**kwargs)\n"
          ]
        },
        {
          "output_type": "stream",
          "name": "stdout",
          "text": [
            "\u001b[1m67/67\u001b[0m \u001b[32m━━━━━━━━━━━━━━━━━━━━\u001b[0m\u001b[37m\u001b[0m \u001b[1m0s\u001b[0m 3ms/step\n"
          ]
        },
        {
          "output_type": "stream",
          "name": "stderr",
          "text": [
            "/usr/local/lib/python3.11/dist-packages/keras/src/layers/rnn/rnn.py:200: UserWarning: Do not pass an `input_shape`/`input_dim` argument to a layer. When using Sequential models, prefer using an `Input(shape)` object as the first layer in the model instead.\n",
            "  super().__init__(**kwargs)\n"
          ]
        },
        {
          "output_type": "stream",
          "name": "stdout",
          "text": [
            "\u001b[1m67/67\u001b[0m \u001b[32m━━━━━━━━━━━━━━━━━━━━\u001b[0m\u001b[37m\u001b[0m \u001b[1m1s\u001b[0m 8ms/step\n"
          ]
        },
        {
          "output_type": "stream",
          "name": "stderr",
          "text": [
            "/usr/local/lib/python3.11/dist-packages/keras/src/layers/rnn/rnn.py:200: UserWarning: Do not pass an `input_shape`/`input_dim` argument to a layer. When using Sequential models, prefer using an `Input(shape)` object as the first layer in the model instead.\n",
            "  super().__init__(**kwargs)\n"
          ]
        },
        {
          "output_type": "stream",
          "name": "stdout",
          "text": [
            "\u001b[1m67/67\u001b[0m \u001b[32m━━━━━━━━━━━━━━━━━━━━\u001b[0m\u001b[37m\u001b[0m \u001b[1m1s\u001b[0m 6ms/step\n"
          ]
        },
        {
          "output_type": "stream",
          "name": "stderr",
          "text": [
            "/usr/local/lib/python3.11/dist-packages/keras/src/layers/rnn/rnn.py:200: UserWarning: Do not pass an `input_shape`/`input_dim` argument to a layer. When using Sequential models, prefer using an `Input(shape)` object as the first layer in the model instead.\n",
            "  super().__init__(**kwargs)\n"
          ]
        }
      ]
    },
    {
      "cell_type": "code",
      "source": [
        "# Predict on the entire dataset using the best LSTM model\n",
        "all_lstm_predictions = best_lstm_model.predict(data_normalized[:-1].reshape(-1, 1, 1)).flatten()\n",
        "\n",
        "# Inverse normalize the LSTM predictions\n",
        "all_lstm_predictions = all_lstm_predictions * np.max(data)"
      ],
      "metadata": {
        "id": "uo-wEpRL5N06"
      },
      "execution_count": null,
      "outputs": []
    },
    {
      "cell_type": "code",
      "source": [
        "from sklearn.svm import SVR\n",
        "from sklearn.model_selection import GridSearchCV\n",
        "\n",
        "# Support Vector Machines (SVM) Model\n",
        "svm_model = SVR()\n",
        "\n",
        "svm_params = {\n",
        "    'C': [0.1, 1, 10],\n",
        "    'gamma': [0.01, 0.1, 1]\n",
        "}\n",
        "\n",
        "svm_grid_search = GridSearchCV(svm_model, svm_params, scoring='neg_mean_squared_error')\n",
        "svm_grid_search.fit(np.arange(len(close_prices_reversed)).reshape(-1, 1), close_prices_reversed)\n",
        "svm_best_model = svm_grid_search.best_estimator_\n",
        "svm_predictions = svm_best_model.predict(np.arange(len(close_prices_reversed)).reshape(-1, 1))"
      ],
      "metadata": {
        "id": "FuVaLFMM5WIh"
      },
      "execution_count": null,
      "outputs": []
    },
    {
      "cell_type": "code",
      "source": [
        "from xgboost import XGBRegressor\n",
        "from lightgbm import LGBMRegressor\n",
        "\n",
        "# Random Forest Model\n",
        "rf_model = RandomForestRegressor()\n",
        "\n",
        "rf_params = {\n",
        "    'n_estimators': [50, 100, 200],\n",
        "    'max_depth': [None, 5, 10]\n",
        "}\n",
        "\n",
        "rf_grid_search = GridSearchCV(rf_model, rf_params, scoring='neg_mean_squared_error')\n",
        "rf_grid_search.fit(np.arange(len(close_prices_reversed)).reshape(-1, 1), close_prices_reversed)\n",
        "rf_best_model = rf_grid_search.best_estimator_\n",
        "rf_predictions = rf_best_model.predict(np.arange(len(close_prices_reversed)).reshape(-1, 1))\n",
        "\n",
        "# Gradient Boosting Methods (XGBoost)\n",
        "xgb_model = XGBRegressor()\n",
        "\n",
        "xgb_params = {\n",
        "    'learning_rate': [0.1, 0.01, 0.001],\n",
        "    'max_depth': [3, 5, 7]\n",
        "}\n",
        "\n",
        "xgb_grid_search = GridSearchCV(xgb_model, xgb_params, scoring='neg_mean_squared_error')\n",
        "xgb_grid_search.fit(np.arange(len(close_prices_reversed)).reshape(-1, 1), close_prices_reversed)\n",
        "xgb_best_model = xgb_grid_search.best_estimator_\n",
        "xgb_predictions = xgb_best_model.predict(np.arange(len(close_prices_reversed)).reshape(-1, 1))\n",
        "\n",
        "# Gradient Boosting Methods (LightGBM)\n",
        "lgbm_model = LGBMRegressor()\n",
        "\n",
        "lgbm_params = {\n",
        "    'learning_rate': [0.1, 0.01, 0.001],\n",
        "    'max_depth': [3, 5, 7]\n",
        "}\n",
        "\n",
        "lgbm_grid_search = GridSearchCV(lgbm_model, lgbm_params, scoring='neg_mean_squared_error')\n",
        "lgbm_grid_search.fit(np.arange(len(close_prices_reversed)).reshape(-1, 1), close_prices_reversed)\n",
        "lgbm_best_model = lgbm_grid_search.best_estimator_\n",
        "lgbm_predictions = lgbm_best_model.predict(np.arange(len(close_prices_reversed)).reshape(-1, 1))"
      ],
      "metadata": {
        "id": "BI-EO9W85iBw"
      },
      "execution_count": null,
      "outputs": []
    },
    {
      "cell_type": "code",
      "source": [
        "import matplotlib.pyplot as plt\n",
        "from sklearn.metrics import mean_squared_error\n",
        "\n",
        "# Function to calculate RMSE\n",
        "def rmse(y_true, y_pred):\n",
        "    return np.sqrt(mean_squared_error(y_true, y_pred))\n",
        "\n",
        "# List of model names and predictions\n",
        "model_names = ['Support Vector Machines (SVM)', 'Random Forest', 'XGBoost', 'LightGBM']\n",
        "predictions = [svm_predictions, rf_predictions, xgb_predictions, lgbm_predictions]\n",
        "best_models = [svm_best_model, rf_best_model, xgb_best_model, lgbm_best_model]\n",
        "\n",
        "# Truncate actual values to match the length of predictions\n",
        "actual_values_reverse = close_prices_reversed[-len(svm_predictions):]\n",
        "\n",
        "# Evaluate models and plot graphs\n",
        "for i, model_name in enumerate(model_names):\n",
        "    model_prediction = predictions[i]\n",
        "    model_prediction_truncated = model_prediction[-len(actual_values_reverse):]  # Truncate predicted values\n",
        "    model_rmse = rmse(actual_values_reverse, model_prediction_truncated)\n",
        "\n",
        "    # Plotting actual and predicted values\n",
        "    plt.figure(figsize=(10, 6))\n",
        "    plt.plot(actual_values_reverse, label='Actual')\n",
        "    plt.plot(model_prediction_truncated, label='Predicted')\n",
        "    plt.title(f\"{model_name} - RMSE: {model_rmse:.2f}\")\n",
        "    plt.xlabel('Time')\n",
        "    plt.ylabel('Stock Price')\n",
        "    plt.legend()\n",
        "    plt.show()\n",
        "\n",
        "    # Print the best hyperparameters for the model\n",
        "    best_model = best_models[i]\n",
        "    print(f\"Best Hyperparameters for {model_name}:\")\n",
        "    print(best_model)\n",
        "    print(\"-----------------------------\")"
      ],
      "metadata": {
        "id": "52pGcqSu9DZs"
      },
      "execution_count": null,
      "outputs": []
    },
    {
      "cell_type": "code",
      "source": [
        "\n",
        "# Plotting LSTM predictions\n",
        "plt.figure(figsize=(10, 6))\n",
        "plt.plot(actual_values_reverse, label='Actual')\n",
        "plt.plot(all_lstm_predictions, label='LSTM Predicted')\n",
        "plt.title(f\"LSTM Model - RMSE: {best_rmse:.2f}\")\n",
        "plt.xlabel('Time')\n",
        "plt.ylabel('Stock Price')\n",
        "plt.legend()\n",
        "plt.show()"
      ],
      "metadata": {
        "id": "v0NxXC7Z9N1B"
      },
      "execution_count": null,
      "outputs": []
    },
    {
      "cell_type": "code",
      "source": [
        "import pandas as pd\n",
        "import numpy as np\n",
        "import matplotlib.pyplot as plt\n",
        "from sklearn.metrics import mean_squared_error\n",
        "from sklearn.model_selection import GridSearchCV\n",
        "from sklearn.svm import SVR\n",
        "from sklearn.ensemble import RandomForestRegressor\n",
        "from xgboost import XGBRegressor\n",
        "from lightgbm import LGBMRegressor\n",
        "from tensorflow.keras.models import Sequential\n",
        "from tensorflow.keras.layers import LSTM, Dense\n",
        "from tensorflow.keras.optimizers import Adam\n",
        "\n",
        "# Load the stock data\n",
        "file_path = \"/content/drive/My Drive/question4-stock-data.csv\"\n",
        "data = pd.read_csv(file_path)\n",
        "close_prices_reversed = data['Close']\n",
        "\n",
        "# Reverse the order of the data\n",
        "close_prices_reversed = close_prices_reversed.iloc[::-1]\n",
        "\n",
        "# Reset index to maintain the correct time series order in the plot\n",
        "close_prices_reversed.reset_index(drop=True, inplace=True)\n",
        "\n",
        "# Data preprocessing\n",
        "data = close_prices_reversed.values.reshape(-1, 1)  # Reshape the data\n",
        "data_normalized = data / np.max(data)  # Normalize the data\n",
        "\n",
        "# Split the data into training and testing sets\n",
        "train_size = int(len(data_normalized) * 0.8)\n",
        "train_data = data_normalized[:train_size]\n",
        "test_data = data_normalized[train_size:]\n",
        "\n",
        "# Function to create LSTM model\n",
        "def create_lstm_model(units, activation, learning_rate):\n",
        "    model = Sequential()\n",
        "    model.add(LSTM(units=units, activation=activation, input_shape=(1, 1)))\n",
        "    model.add(Dense(units=1))\n",
        "    optimizer = Adam(learning_rate=learning_rate)\n",
        "    model.compile(optimizer=optimizer, loss='mean_squared_error')\n",
        "    return model\n",
        "\n",
        "# Define hyperparameters for tuning\n",
        "lstm_units = [50, 100, 200]\n",
        "lstm_activations = ['relu', 'tanh']\n",
        "learning_rates = [0.001, 0.01, 0.1]\n",
        "epochs = 100\n",
        "batch_size = 32\n",
        "\n",
        "# Perform hyperparameter tuning for LSTM model\n",
        "best_rmse = float('inf')\n",
        "best_lstm_model = None\n",
        "\n",
        "for units in lstm_units:\n",
        "    for activation in lstm_activations:\n",
        "        for learning_rate in learning_rates:\n",
        "            # Create and train LSTM model\n",
        "            model = create_lstm_model(units=units, activation=activation, learning_rate=learning_rate)\n",
        "            model.fit(train_data[:-1].reshape(-1, 1, 1), train_data[1:], epochs=epochs, batch_size=batch_size, verbose=0)\n",
        "\n",
        "            # Predict on test data\n",
        "            test_predictions = model.predict(test_data[:-1].reshape(-1, 1, 1)).flatten()\n",
        "\n",
        "            # Calculate RMSE\n",
        "            rmse = np.sqrt(mean_squared_error(test_data[1:], test_predictions))\n",
        "\n",
        "            # Check if current model has lower RMSE\n",
        "            if rmse < best_rmse:\n",
        "                best_rmse = rmse\n",
        "                best_lstm_model = model\n",
        "\n",
        "# Predict on the entire dataset using the best LSTM model\n",
        "all_lstm_predictions = best_lstm_model.predict(data_normalized[:-1].reshape(-1, 1, 1)).flatten()\n",
        "\n",
        "# Inverse normalize the LSTM predictions\n",
        "all_lstm_predictions = all_lstm_predictions * np.max(data)\n",
        "\n",
        "# Calculate the scaling factor based on the maximum value of the original data\n",
        "scaling_factor = np.max(close_prices_reversed)\n",
        "\n",
        "# Function to predict future stock prices using the LSTM model\n",
        "def predict_future_lstm(model, data, num_predictions, scaling_factor):\n",
        "    predictions = []\n",
        "\n",
        "    # Get the last data point from the input data\n",
        "    last_data_point = data[-1]\n",
        "\n",
        "    for _ in range(num_predictions):\n",
        "        # Predict the next time step\n",
        "        prediction = model.predict(last_data_point.reshape(1, 1, 1))\n",
        "        predictions.append(prediction[0, 0])\n",
        "\n",
        "        # Update last_data_point to include the predicted value for the next iteration\n",
        "        last_data_point = np.append(last_data_point[1:], prediction)\n",
        "\n",
        "    # Inverse normalize the predictions\n",
        "    predictions = np.array(predictions) * scaling_factor\n",
        "\n",
        "    return predictions\n",
        "\n",
        "# Predict the next 5 days using the LSTM model\n",
        "num_predictions = 5\n",
        "lstm_predictions = predict_future_lstm(best_lstm_model, data_normalized, num_predictions, scaling_factor)\n",
        "\n",
        "# Plot the LSTM predictions for the next 10 days\n",
        "plt.figure(figsize=(10, 6))\n",
        "plt.plot(close_prices_reversed, label='Actual')\n",
        "plt.plot(np.arange(len(close_prices_reversed), len(close_prices_reversed) + num_predictions), lstm_predictions, label='LSTM Predicted')\n",
        "plt.title(f\"LSTM Model - RMSE: {best_rmse:.2f}\")\n",
        "plt.xlabel('Time')\n",
        "plt.ylabel('Stock Price')\n",
        "plt.legend()\n",
        "plt.show()\n",
        "\n",
        "# Print the predicted stock prices for the next 10 days using LSTM\n",
        "print(\"Predicted stock prices for the next 5 days:\")\n",
        "for i, prediction in enumerate(lstm_predictions, start=1):\n",
        "    print(f\"Day {i}: {prediction:.2f}\")"
      ],
      "metadata": {
        "id": "qi0VHOcYBGKr"
      },
      "execution_count": null,
      "outputs": []
    },
    {
      "cell_type": "code",
      "source": [],
      "metadata": {
        "id": "SnA4uM7q9OxY"
      },
      "execution_count": null,
      "outputs": []
    }
  ]
}